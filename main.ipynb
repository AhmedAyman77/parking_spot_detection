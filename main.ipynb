{
 "cells": [
  {
   "cell_type": "code",
   "execution_count": 1,
   "metadata": {},
   "outputs": [
    {
     "name": "stderr",
     "output_type": "stream",
     "text": [
      "/home/ahmedcr7/.local/lib/python3.11/site-packages/sklearn/base.py:376: InconsistentVersionWarning: Trying to unpickle estimator SVC from version 1.1.3 when using version 1.4.1.post1. This might lead to breaking code or invalid results. Use at your own risk. For more info please refer to:\n",
      "https://scikit-learn.org/stable/model_persistence.html#security-maintainability-limitations\n",
      "  warnings.warn(\n"
     ]
    }
   ],
   "source": [
    "import cv2\n",
    "import matplotlib.pyplot as plt\n",
    "import numpy as np\n",
    "from skimage.metrics import structural_similarity as ssim\n",
    "\n",
    "from util import get_parking_spots_bboxes, empty_or_not"
   ]
  },
  {
   "cell_type": "code",
   "execution_count": 2,
   "metadata": {},
   "outputs": [],
   "source": [
    "def get_diff(img1, img2):\n",
    "    return np.abs(np.mean(img1)-np.mean(img2))"
   ]
  },
  {
   "cell_type": "code",
   "execution_count": 5,
   "metadata": {},
   "outputs": [],
   "source": [
    "cap = cv2.VideoCapture('parking_1920_1080.mp4')\n",
    "\n",
    "mask = cv2.imread('mask_1920_1080.png',0)\n",
    "connected_components = cv2.connectedComponentsWithStats(mask, 8, cv2.CV_32S)\n",
    "\n",
    "bbox = get_parking_spots_bboxes(connected_components)\n",
    "counter = 0\n",
    "predictions = [None for i in bbox]\n",
    "diff = [None for i in bbox]\n",
    "\n",
    "prev_frame = None\n",
    "while True:\n",
    "    ret, frame = cap.read()\n",
    "    if not ret:\n",
    "        break\n",
    "\n",
    "    if counter % 50 == 0:\n",
    "        if prev_frame is None: # NumPy arrays can't be directly compared to None using the equality operator (==)\n",
    "            for (idx,(x, y, w, h)) in enumerate(bbox):\n",
    "                roi = frame[y:y + h, x:x + w]\n",
    "                pred = empty_or_not(roi)\n",
    "                predictions[idx] = pred\n",
    "        \n",
    "        else:\n",
    "            for (idx,(x, y, w, h)) in enumerate(bbox):\n",
    "                roi = frame[y:y + h, x:x + w]\n",
    "                prev_roi = prev_frame[y:y + h, x:x + w]\n",
    "                diff[idx] = get_diff(roi, prev_roi)\n",
    "            \n",
    "            indices_of_changed_roi = [j for j in np.argsort(diff) if diff[j]/np.amax(diff) > 0.4]\n",
    "\n",
    "            for idx in indices_of_changed_roi:\n",
    "                x,y,w,h = bbox[idx]\n",
    "                roi = frame[y:y + h, x:x + w]\n",
    "                pred = empty_or_not(roi)\n",
    "                predictions[idx] = pred\n",
    "\n",
    "    for (idx,(x, y, w, h)) in enumerate(bbox):\n",
    "        if predictions[idx]:\n",
    "            cv2.rectangle(frame, (x, y), (x + w, y + h), (0, 255, 0), 2)\n",
    "        else:\n",
    "            cv2.rectangle(frame, (x, y), (x + w, y + h), (0, 0, 255), 2)\n",
    "\n",
    "    cv2.imshow('frame', frame)\n",
    "\n",
    "    if cv2.waitKey(1) == ord('q'):\n",
    "        break\n",
    "\n",
    "    counter += 1\n",
    "    prev_frame = frame\n",
    "\n",
    "cap.release()\n",
    "\n",
    "# cv2.imshow('mask', mask)\n",
    "# cv2.waitKey(0)\n",
    "cv2.destroyAllWindows()"
   ]
  }
 ],
 "metadata": {
  "kernelspec": {
   "display_name": "Python 3",
   "language": "python",
   "name": "python3"
  },
  "language_info": {
   "codemirror_mode": {
    "name": "ipython",
    "version": 3
   },
   "file_extension": ".py",
   "mimetype": "text/x-python",
   "name": "python",
   "nbconvert_exporter": "python",
   "pygments_lexer": "ipython3",
   "version": "3.11.6"
  },
  "orig_nbformat": 4
 },
 "nbformat": 4,
 "nbformat_minor": 2
}
